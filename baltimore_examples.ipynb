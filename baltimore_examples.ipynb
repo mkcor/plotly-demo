{
 "cells": [
  {
   "cell_type": "code",
   "execution_count": null,
   "metadata": {
    "collapsed": true
   },
   "outputs": [],
   "source": [
    "import pandas as pd"
   ]
  },
  {
   "cell_type": "markdown",
   "metadata": {},
   "source": [
    "# Exploring and visualizing Baltimore Neighborhood Indicator Alliance data."
   ]
  },
  {
   "cell_type": "markdown",
   "metadata": {},
   "source": [
    "https://plot.ly/ipython-notebooks/baltimore-vital-signs/\n",
    "https://github.com/jtelszasz/baltimore_vital_signs"
   ]
  },
  {
   "cell_type": "code",
   "execution_count": null,
   "metadata": {
    "collapsed": true
   },
   "outputs": [],
   "source": [
    "df = pd.read_csv('https://raw.githubusercontent.com/jtelszasz/baltimore_vital_signs/master/raw_data/full_vital_signs_dataset.csv')"
   ]
  },
  {
   "cell_type": "code",
   "execution_count": null,
   "metadata": {
    "collapsed": false
   },
   "outputs": [],
   "source": []
  },
  {
   "cell_type": "code",
   "execution_count": null,
   "metadata": {
    "collapsed": false
   },
   "outputs": [],
   "source": [
    "df.index"
   ]
  },
  {
   "cell_type": "code",
   "execution_count": null,
   "metadata": {
    "collapsed": false
   },
   "outputs": [],
   "source": []
  },
  {
   "cell_type": "code",
   "execution_count": null,
   "metadata": {
    "collapsed": true
   },
   "outputs": [],
   "source": [
    "# One of the rows is an aggregate Baltimore City.\n",
    "df.drop('Baltimore City', inplace=True)"
   ]
  },
  {
   "cell_type": "markdown",
   "metadata": {},
   "source": [
    "## Percentage of Households in Poverty and with Children"
   ]
  },
  {
   "cell_type": "code",
   "execution_count": null,
   "metadata": {
    "collapsed": true
   },
   "outputs": [],
   "source": [
    "df_chpov_sorted = df['hhchpov12'].sort(inplace=False)"
   ]
  },
  {
   "cell_type": "code",
   "execution_count": null,
   "metadata": {
    "collapsed": true
   },
   "outputs": [],
   "source": [
    "import plotly.graph_objs as pgo"
   ]
  },
  {
   "cell_type": "code",
   "execution_count": null,
   "metadata": {
    "collapsed": true
   },
   "outputs": [],
   "source": [
    "# Create a horizontal bar chart with plotly.\n",
    "data1 = pgo.Data([\n",
    "    pgo.Bar(\n",
    "            y=df_chpov_sorted.index,\n",
    "            x=df_chpov_sorted,\n",
    "            orientation='h'\n",
    "    )\n",
    "])"
   ]
  },
  {
   "cell_type": "code",
   "execution_count": null,
   "metadata": {
    "collapsed": true
   },
   "outputs": [],
   "source": [
    "# Specify some layout attributes.\n",
    "layout1 = pgo.Layout(\n",
    "    title='% HH w. Children in Poverty',\n",
    "    margin=pgo.Margin(l=300)  # Add left margin for y-labels are long.\n",
    ")"
   ]
  },
  {
   "cell_type": "code",
   "execution_count": null,
   "metadata": {
    "collapsed": true
   },
   "outputs": [],
   "source": [
    "fig1 = pgo.Figure(data=data1, layout=layout1)"
   ]
  },
  {
   "cell_type": "code",
   "execution_count": null,
   "metadata": {
    "collapsed": true
   },
   "outputs": [],
   "source": [
    "import plotly.plotly as py"
   ]
  },
  {
   "cell_type": "code",
   "execution_count": null,
   "metadata": {
    "collapsed": false
   },
   "outputs": [],
   "source": [
    "py.iplot(fig1, filename='baltimore-hh-pov-1', width=700, height=1000)"
   ]
  },
  {
   "cell_type": "code",
   "execution_count": null,
   "metadata": {
    "collapsed": true
   },
   "outputs": [],
   "source": [
    "import matplotlib.pyplot as plt"
   ]
  },
  {
   "cell_type": "code",
   "execution_count": null,
   "metadata": {
    "collapsed": false
   },
   "outputs": [],
   "source": [
    "mpl_fig, ax = plt.subplots()\n",
    "\n",
    "size = 100\n",
    "alpha = 0.5\n",
    "fontsize = 16\n",
    "\n",
    "ax.scatter(df['phisp10'], df['hhpov12'], c='r', alpha=alpha, s=size)\n",
    "ax.scatter(df['paa10'], df['hhpov12'], c='c', alpha=alpha, s=size)\n",
    "ax.legend(['Hispanic', 'Black'], fontsize=12)\n",
    "\n",
    "# Turn off square border around plot.\n",
    "ax.spines['top'].set_visible(False)\n",
    "ax.spines['right'].set_visible(False)\n",
    "ax.spines['bottom'].set_visible(False)\n",
    "ax.spines['left'].set_visible(False)\n",
    "\n",
    "# Turn off ticks.\n",
    "ax.tick_params(axis=\"both\", which=\"both\", bottom=\"off\", top=\"off\",\n",
    "               labelbottom=\"on\", left=\"off\", right=\"off\", labelleft=\"on\",\n",
    "               labelsize=16)\n",
    "\n",
    "ax.set_ylim(-5, 60)\n",
    "ax.set_xlim(-5, 100)\n",
    "\n",
    "ax.set_ylabel('% HH in Poverty', fontsize=fontsize)\n",
    "ax.set_xlabel('% Population', fontsize=fontsize)"
   ]
  },
  {
   "cell_type": "code",
   "execution_count": null,
   "metadata": {
    "collapsed": false
   },
   "outputs": [],
   "source": [
    "mpl_fig"
   ]
  },
  {
   "cell_type": "code",
   "execution_count": null,
   "metadata": {
    "collapsed": false
   },
   "outputs": [],
   "source": [
    "py.iplot_mpl(mpl_fig, filename='baltimore-poverty-1')"
   ]
  },
  {
   "cell_type": "code",
   "execution_count": null,
   "metadata": {
    "collapsed": true
   },
   "outputs": [],
   "source": [
    "import plotly.tools as tls"
   ]
  },
  {
   "cell_type": "code",
   "execution_count": null,
   "metadata": {
    "collapsed": true
   },
   "outputs": [],
   "source": [
    "# Convert mpl fig object to plotly fig object, resize to plotly's default.\n",
    "py_fig = tls.mpl_to_plotly(mpl_fig, resize=True)"
   ]
  },
  {
   "cell_type": "code",
   "execution_count": null,
   "metadata": {
    "collapsed": true
   },
   "outputs": [],
   "source": [
    "# Give each trace a name to appear in legend.\n",
    "py_fig['data'][0]['name'] = py_fig['layout']['annotations'][0]['text']\n",
    "py_fig['data'][1]['name'] = py_fig['layout']['annotations'][1]['text']"
   ]
  },
  {
   "cell_type": "code",
   "execution_count": null,
   "metadata": {
    "collapsed": false
   },
   "outputs": [],
   "source": [
    "# Delete misplaced legend annotations. \n",
    "py_fig['layout'].pop('annotations', None)"
   ]
  },
  {
   "cell_type": "code",
   "execution_count": null,
   "metadata": {
    "collapsed": true
   },
   "outputs": [],
   "source": [
    "# Add legend, place it at the top right corner of the plot.\n",
    "py_fig['layout'].update(\n",
    "    showlegend=True,\n",
    "    legend=pgo.Legend(\n",
    "        x=1,\n",
    "        y=1\n",
    "    )\n",
    ")"
   ]
  },
  {
   "cell_type": "code",
   "execution_count": null,
   "metadata": {
    "collapsed": false
   },
   "outputs": [],
   "source": [
    "# Send updated figure object to Plotly, show result in notebook.\n",
    "py.iplot(py_fig, filename='baltimore-poverty-1')"
   ]
  },
  {
   "cell_type": "code",
   "execution_count": null,
   "metadata": {
    "collapsed": true
   },
   "outputs": [],
   "source": [
    "%load_ext rpy2.ipython"
   ]
  },
  {
   "cell_type": "code",
   "execution_count": null,
   "metadata": {
    "collapsed": false
   },
   "outputs": [],
   "source": [
    "%R library(plotly)"
   ]
  },
  {
   "cell_type": "code",
   "execution_count": null,
   "metadata": {
    "collapsed": false
   },
   "outputs": [],
   "source": [
    "%R py <- plotly()"
   ]
  }
 ],
 "metadata": {
  "kernelspec": {
   "display_name": "Python 3",
   "language": "python",
   "name": "python3"
  },
  "language_info": {
   "codemirror_mode": {
    "name": "ipython",
    "version": 3
   },
   "file_extension": ".py",
   "mimetype": "text/x-python",
   "name": "python",
   "nbconvert_exporter": "python",
   "pygments_lexer": "ipython3",
   "version": "3.4.0"
  }
 },
 "nbformat": 4,
 "nbformat_minor": 0
}
